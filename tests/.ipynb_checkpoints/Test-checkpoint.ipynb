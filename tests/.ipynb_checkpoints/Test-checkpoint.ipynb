{
 "cells": [
  {
   "cell_type": "code",
   "execution_count": 1,
   "id": "7ba1babb",
   "metadata": {},
   "outputs": [],
   "source": [
    "import sys \n",
    "import os"
   ]
  },
  {
   "cell_type": "code",
   "execution_count": 2,
   "id": "c5b51dd0",
   "metadata": {},
   "outputs": [],
   "source": [
    "os.chdir('..')"
   ]
  },
  {
   "cell_type": "code",
   "execution_count": 3,
   "id": "52fab35d",
   "metadata": {},
   "outputs": [],
   "source": [
    "from generation.generator import generate_set\n"
   ]
  },
  {
   "cell_type": "code",
   "execution_count": 4,
   "id": "6487f4e1",
   "metadata": {},
   "outputs": [],
   "source": [
    "X, Y = generate_set(1000, 5, 5)"
   ]
  },
  {
   "cell_type": "code",
   "execution_count": 5,
   "id": "d7ddd778",
   "metadata": {},
   "outputs": [],
   "source": [
    "from clustering.clustering import Kmeans, RandomSwap\n",
    "from experiment.experiment import AlgorithmPipeline"
   ]
  },
  {
   "cell_type": "code",
   "execution_count": null,
   "id": "2d7151ad",
   "metadata": {},
   "outputs": [],
   "source": []
  }
 ],
 "metadata": {
  "kernelspec": {
   "display_name": "Python 3 (ipykernel)",
   "language": "python",
   "name": "python3"
  },
  "language_info": {
   "codemirror_mode": {
    "name": "ipython",
    "version": 3
   },
   "file_extension": ".py",
   "mimetype": "text/x-python",
   "name": "python",
   "nbconvert_exporter": "python",
   "pygments_lexer": "ipython3",
   "version": "3.9.7"
  }
 },
 "nbformat": 4,
 "nbformat_minor": 5
}
