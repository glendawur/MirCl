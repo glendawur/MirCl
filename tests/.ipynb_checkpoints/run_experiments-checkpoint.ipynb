{
 "cells": [
  {
   "cell_type": "code",
   "execution_count": 1,
   "id": "29ace959",
   "metadata": {},
   "outputs": [],
   "source": [
    "import os\n",
    "import numpy as np\n",
    "import pandas as pd"
   ]
  },
  {
   "cell_type": "code",
   "execution_count": 2,
   "id": "c5996a40",
   "metadata": {},
   "outputs": [
    {
     "name": "stdout",
     "output_type": "stream",
     "text": [
      "Processing c:\\users\\onii-chan\\documents\\github\\clusterlib\n",
      "Building wheels for collected packages: clusterlib\n",
      "  Building wheel for clusterlib (setup.py): started\n",
      "  Building wheel for clusterlib (setup.py): finished with status 'done'\n",
      "  Created wheel for clusterlib: filename=clusterlib-0.1.0-py3-none-any.whl size=13355 sha256=61e1be1f841514ba5cbf10bd7141754498b9ffdb91dfba5e438f3efc8581c554\n",
      "  Stored in directory: C:\\Users\\onii-chan\\AppData\\Local\\Temp\\pip-ephem-wheel-cache-atxzijms\\wheels\\22\\a3\\93\\7c4754000689c0698498c14a8085cc82720aaeaa7f9240a7cc\n",
      "Successfully built clusterlib\n",
      "Installing collected packages: clusterlib\n",
      "  Attempting uninstall: clusterlib\n",
      "    Found existing installation: clusterlib 0.1.0\n",
      "    Uninstalling clusterlib-0.1.0:\n",
      "      Successfully uninstalled clusterlib-0.1.0\n",
      "Successfully installed clusterlib-0.1.0\n",
      "Note: you may need to restart the kernel to use updated packages.\n"
     ]
    },
    {
     "name": "stderr",
     "output_type": "stream",
     "text": [
      "  DEPRECATION: A future pip version will change local packages to be built in-place without first copying to a temporary directory. We recommend you use --use-feature=in-tree-build to test your packages with this new behavior before it becomes the default.\n",
      "   pip 21.3 will remove support for this functionality. You can find discussion regarding this at https://github.com/pypa/pip/issues/7555.\n",
      "WARNING: You are using pip version 21.2.2; however, version 22.2.2 is available.\n",
      "You should consider upgrading via the 'C:\\Users\\onii-chan\\anaconda3\\python.exe -m pip install --upgrade pip' command.\n"
     ]
    }
   ],
   "source": [
    "pip install file:///Users/onii-chan/Documents/GitHub/clusterlib"
   ]
  },
  {
   "cell_type": "markdown",
   "id": "fcc6f427",
   "metadata": {},
   "source": [
    "-----"
   ]
  },
  {
   "cell_type": "markdown",
   "id": "e4075be1",
   "metadata": {},
   "source": [
    "### Get Partitions"
   ]
  },
  {
   "cell_type": "code",
   "execution_count": 3,
   "id": "6408849b",
   "metadata": {},
   "outputs": [],
   "source": [
    "from clusterlib import clustering, experiment, miscellaneous"
   ]
  },
  {
   "cell_type": "code",
   "execution_count": null,
   "id": "94bd9da2",
   "metadata": {},
   "outputs": [],
   "source": [
    "M=[15, 50]\n",
    "a = [0.25, 0.5, 0.75]\n",
    "k=[7, 15, 21]\n",
    "ids = np.arange(0, 30)\n",
    "\n",
    "path_in = 'C:/Users/onii-chan/Documents/JupyterNotebooks/Research/generation4/csv'\n",
    "path_out = 'C:/Users/onii-chan/Documents/JupyterNotebooks/Research_Results/partitions'\n",
    "\n",
    "for m_i in M:\n",
    "    for a_i in a:\n",
    "        for k_i in k:\n",
    "            for ids_i in ids:\n",
    "                data = np.genfromtxt(f'{path_in}/N2500_M{M[0]}_a{a[0]}_k{k[0]}_id{ids[0]}.csv', delimiter=',')\n",
    "                X = centering(data[1:,:-1], normalize = True)\n",
    "                Y = data[1:,-1]\n",
    "                km_pipe = experiment.AlgorithmPipeline(data = X,\n",
    "                                                       algorithm=clustering.Kmeans)\n",
    "                L_km, exec_time = km_pipe.run(k_range = np.arange(2,31),\n",
    "                                              exec_number=50,\n",
    "                                              max_iter = 100)\n",
    "                np.save(os.path.join(path, f'N2500_M{M[0]}_a{a[0]}_k{k[0]}_id{ids[0]}_kmeans_L'), L)\n",
    "                np.save(os.path.join(path, f'N2500_M{M[0]}_a{a[0]}_k{k[0]}_id{ids[0]}_kmeans_time'), exec_time)\n",
    "                rs_pipe = experiment.AlgorithmPipeline(data = X,\n",
    "                                                       algorithm=clustering.RandomSwap)\n",
    "                L_rs, exec_time = es_pipe.run(k_range = np.arange(2,31),\n",
    "                                              exec_number=50,\n",
    "                                              max_iter = 100)\n",
    "                np.save(os.path.join(path, f'N2500_M{M[0]}_a{a[0]}_k{k[0]}_id{ids[0]}_rswap_L'), L)\n",
    "                np.save(os.path.join(path, f'N2500_M{M[0]}_a{a[0]}_k{k[0]}_id{ids[0]}_rswap_time'), exec_time)\n",
    "            print(f'M{M[0]}-a{a[0]}-k{k[0]} is done')"
   ]
  }
 ],
 "metadata": {
  "kernelspec": {
   "display_name": "Python 3 (ipykernel)",
   "language": "python",
   "name": "python3"
  },
  "language_info": {
   "codemirror_mode": {
    "name": "ipython",
    "version": 3
   },
   "file_extension": ".py",
   "mimetype": "text/x-python",
   "name": "python",
   "nbconvert_exporter": "python",
   "pygments_lexer": "ipython3",
   "version": "3.9.7"
  }
 },
 "nbformat": 4,
 "nbformat_minor": 5
}
