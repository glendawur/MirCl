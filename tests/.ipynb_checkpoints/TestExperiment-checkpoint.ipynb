{
 "cells": [
  {
   "cell_type": "code",
   "execution_count": 1,
   "id": "392c3a62",
   "metadata": {},
   "outputs": [],
   "source": [
    "import os\n",
    "import numpy as np\n",
    "import pandas as pd"
   ]
  },
  {
   "cell_type": "code",
   "execution_count": 2,
   "id": "deae8dac",
   "metadata": {},
   "outputs": [],
   "source": [
    "from time import time"
   ]
  },
  {
   "cell_type": "code",
   "execution_count": 3,
   "id": "da677a19",
   "metadata": {},
   "outputs": [],
   "source": [
    "os.chdir('..')"
   ]
  },
  {
   "cell_type": "code",
   "execution_count": 4,
   "id": "eb25ac88",
   "metadata": {},
   "outputs": [
    {
     "name": "stdout",
     "output_type": "stream",
     "text": [
      "Processing c:\\users\\onii-chan\\documents\\github\\clusterlib\n",
      "Building wheels for collected packages: clusterlib\n",
      "  Building wheel for clusterlib (setup.py): started\n",
      "  Building wheel for clusterlib (setup.py): finished with status 'done'\n",
      "  Created wheel for clusterlib: filename=clusterlib-0.1.0-py3-none-any.whl size=13511 sha256=52e498b3dbba2f472709844c49194c3c709ad86e23acd606f7995fa146fa31cd\n",
      "  Stored in directory: C:\\Users\\onii-chan\\AppData\\Local\\Temp\\pip-ephem-wheel-cache-7w7yatan\\wheels\\22\\a3\\93\\7c4754000689c0698498c14a8085cc82720aaeaa7f9240a7cc\n",
      "Successfully built clusterlib\n",
      "Installing collected packages: clusterlib\n",
      "  Attempting uninstall: clusterlib\n",
      "    Found existing installation: clusterlib 0.1.0\n",
      "    Uninstalling clusterlib-0.1.0:\n",
      "      Successfully uninstalled clusterlib-0.1.0\n",
      "Successfully installed clusterlib-0.1.0\n",
      "Note: you may need to restart the kernel to use updated packages.\n"
     ]
    },
    {
     "name": "stderr",
     "output_type": "stream",
     "text": [
      "  DEPRECATION: A future pip version will change local packages to be built in-place without first copying to a temporary directory. We recommend you use --use-feature=in-tree-build to test your packages with this new behavior before it becomes the default.\n",
      "   pip 21.3 will remove support for this functionality. You can find discussion regarding this at https://github.com/pypa/pip/issues/7555.\n",
      "WARNING: You are using pip version 21.2.2; however, version 22.2.2 is available.\n",
      "You should consider upgrading via the 'C:\\Users\\onii-chan\\anaconda3\\python.exe -m pip install --upgrade pip' command.\n"
     ]
    }
   ],
   "source": [
    "pip install file:///Users/onii-chan/Documents/GitHub/clusterlib"
   ]
  },
  {
   "cell_type": "code",
   "execution_count": 5,
   "id": "a18b0276",
   "metadata": {},
   "outputs": [],
   "source": [
    "import clusterlib"
   ]
  },
  {
   "cell_type": "code",
   "execution_count": 6,
   "id": "453e2782",
   "metadata": {},
   "outputs": [],
   "source": [
    "from clusterlib.miscellaneous import centering\n",
    "from clusterlib.clustering import Kmeans, RandomSwap\n",
    "from clusterlib.experiment import AlgorithmPipeline"
   ]
  },
  {
   "cell_type": "markdown",
   "id": "cb463ce0",
   "metadata": {},
   "source": [
    "### Generate Dataset"
   ]
  },
  {
   "cell_type": "code",
   "execution_count": 7,
   "id": "55213657",
   "metadata": {},
   "outputs": [],
   "source": [
    "from clusterlib.generation import generate_set"
   ]
  },
  {
   "cell_type": "code",
   "execution_count": 8,
   "id": "e91bb670",
   "metadata": {},
   "outputs": [
    {
     "name": "stdout",
     "output_type": "stream",
     "text": [
      "Wall time: 0 ns\n"
     ]
    }
   ],
   "source": [
    "%%time\n",
    "X, Y = generate_set(1000, 10, 5, 100, 0.6)"
   ]
  },
  {
   "cell_type": "markdown",
   "id": "94aceb0a",
   "metadata": {},
   "source": [
    "### Run Kmeans"
   ]
  },
  {
   "cell_type": "code",
   "execution_count": 9,
   "id": "30b2e278",
   "metadata": {},
   "outputs": [
    {
     "name": "stdout",
     "output_type": "stream",
     "text": [
      "Wall time: 0 ns\n"
     ]
    }
   ],
   "source": [
    "%%time\n",
    "km_pipe = AlgorithmPipeline(data = centering(X),\n",
    "                            algorithm=Kmeans)"
   ]
  },
  {
   "cell_type": "code",
   "execution_count": 10,
   "id": "573b491f",
   "metadata": {},
   "outputs": [
    {
     "name": "stdout",
     "output_type": "stream",
     "text": [
      "Wall time: 9.93 s\n"
     ]
    }
   ],
   "source": [
    "%%time\n",
    "L, exec_time, iters = km_pipe.run(k_range = np.arange(2,31),\n",
    "                                  exec_number=30,\n",
    "                                  max_iter = 100,\n",
    "                                  iter_count = True)"
   ]
  },
  {
   "cell_type": "code",
   "execution_count": 11,
   "id": "7dacc40b",
   "metadata": {},
   "outputs": [
    {
     "data": {
      "text/plain": [
       "(29, 30, 1000)"
      ]
     },
     "execution_count": 11,
     "metadata": {},
     "output_type": "execute_result"
    }
   ],
   "source": [
    "L.shape"
   ]
  },
  {
   "cell_type": "code",
   "execution_count": 12,
   "id": "a8f6a762",
   "metadata": {},
   "outputs": [
    {
     "data": {
      "text/plain": [
       "array([0.00052083, 0.00104167, 0.00104167, 0.00052083, 0.003125  ,\n",
       "       0.00520833, 0.00677083, 0.0078125 , 0.00833333, 0.00833333,\n",
       "       0.00625   , 0.009375  , 0.009375  , 0.00989583, 0.01197917,\n",
       "       0.0125    , 0.0125    , 0.01354167, 0.0140625 , 0.015625  ,\n",
       "       0.01614583, 0.01614583, 0.01770833, 0.01822917, 0.01822917,\n",
       "       0.01979167, 0.01979167, 0.02083333, 0.021875  ])"
      ]
     },
     "execution_count": 12,
     "metadata": {},
     "output_type": "execute_result"
    }
   ],
   "source": [
    "exec_time.mean(axis = 1)"
   ]
  },
  {
   "cell_type": "code",
   "execution_count": 13,
   "id": "02b8c7c1",
   "metadata": {},
   "outputs": [
    {
     "data": {
      "text/plain": [
       "array([ 6.9       ,  4.33333333,  3.03333333,  2.03333333, 12.9       ,\n",
       "       14.3       , 20.36666667, 18.        , 18.96666667, 17.2       ,\n",
       "       16.43333333, 16.5       , 15.76666667, 14.86666667, 16.26666667,\n",
       "       17.06666667, 15.73333333, 17.13333333, 16.6       , 17.16666667,\n",
       "       17.13333333, 16.56666667, 16.73333333, 16.73333333, 15.86666667,\n",
       "       15.96666667, 16.06666667, 16.63333333, 16.3       ])"
      ]
     },
     "execution_count": 13,
     "metadata": {},
     "output_type": "execute_result"
    }
   ],
   "source": [
    "iters.mean(axis=1)"
   ]
  },
  {
   "cell_type": "markdown",
   "id": "6565404a",
   "metadata": {},
   "source": [
    "### Run RandomSwap"
   ]
  },
  {
   "cell_type": "code",
   "execution_count": 19,
   "id": "8a07baf4",
   "metadata": {},
   "outputs": [
    {
     "name": "stdout",
     "output_type": "stream",
     "text": [
      "Wall time: 0 ns\n"
     ]
    }
   ],
   "source": [
    "%%time\n",
    "rs_pipe = AlgorithmPipeline(data = centering(X),\n",
    "                            algorithm=RandomSwap)"
   ]
  },
  {
   "cell_type": "code",
   "execution_count": 15,
   "id": "98209247",
   "metadata": {},
   "outputs": [
    {
     "name": "stdout",
     "output_type": "stream",
     "text": [
      "Wall time: 10.1 s\n"
     ]
    }
   ],
   "source": [
    "%%time\n",
    "L, exec_time, iters = km_pipe.run(k_range = np.arange(2,31),\n",
    "                                  exec_number=30,\n",
    "                                  max_iter = 100,\n",
    "                                  iter_count = True)"
   ]
  },
  {
   "cell_type": "code",
   "execution_count": 16,
   "id": "6a25d99c",
   "metadata": {},
   "outputs": [
    {
     "data": {
      "text/plain": [
       "(29, 30, 1000)"
      ]
     },
     "execution_count": 16,
     "metadata": {},
     "output_type": "execute_result"
    }
   ],
   "source": [
    "L.shape"
   ]
  },
  {
   "cell_type": "code",
   "execution_count": 17,
   "id": "b4c64ceb",
   "metadata": {},
   "outputs": [
    {
     "data": {
      "text/plain": [
       "array([0.00104167, 0.00104167, 0.00104167, 0.00104167, 0.003125  ,\n",
       "       0.00520833, 0.00625   , 0.00833333, 0.0078125 , 0.00833333,\n",
       "       0.0078125 , 0.00885417, 0.01041667, 0.0109375 , 0.0125    ,\n",
       "       0.01197917, 0.0125    , 0.01354167, 0.01510417, 0.01510417,\n",
       "       0.0171875 , 0.01614583, 0.01770833, 0.01875   , 0.01927083,\n",
       "       0.02083333, 0.0203125 , 0.0203125 , 0.021875  ])"
      ]
     },
     "execution_count": 17,
     "metadata": {},
     "output_type": "execute_result"
    }
   ],
   "source": [
    "exec_time.mean(axis = 1)"
   ]
  },
  {
   "cell_type": "code",
   "execution_count": 18,
   "id": "5d0b9b21",
   "metadata": {},
   "outputs": [
    {
     "data": {
      "text/plain": [
       "array([ 6.93333333,  5.23333333,  2.63333333,  2.13333333, 12.23333333,\n",
       "       15.5       , 19.63333333, 20.63333333, 18.9       , 17.43333333,\n",
       "       15.96666667, 16.        , 16.83333333, 16.86666667, 16.73333333,\n",
       "       17.06666667, 15.86666667, 16.4       , 17.4       , 17.2       ,\n",
       "       17.53333333, 15.86666667, 17.6       , 17.7       , 16.93333333,\n",
       "       17.86666667, 16.2       , 15.63333333, 16.56666667])"
      ]
     },
     "execution_count": 18,
     "metadata": {},
     "output_type": "execute_result"
    }
   ],
   "source": [
    "iters.mean(axis=1)"
   ]
  },
  {
   "cell_type": "markdown",
   "id": "3d04cb15",
   "metadata": {},
   "source": [
    "### Check indices"
   ]
  },
  {
   "cell_type": "code",
   "execution_count": 20,
   "id": "29155d42",
   "metadata": {},
   "outputs": [],
   "source": [
    "from clusterlib.metrics import bss_matrix, wss_matrix"
   ]
  },
  {
   "cell_type": "code",
   "execution_count": 21,
   "id": "927f541e",
   "metadata": {},
   "outputs": [
    {
     "name": "stdout",
     "output_type": "stream",
     "text": [
      "Wall time: 623 ms\n",
      "Wall time: 1e+03 ms\n"
     ]
    }
   ],
   "source": [
    "%time SSW = wss_matrix(centering(X), L, 'conventional')\n",
    "%time SSB = bss_matrix(centering(X), L, 'conventional')"
   ]
  },
  {
   "cell_type": "code",
   "execution_count": 22,
   "id": "a4b01c5b",
   "metadata": {},
   "outputs": [
    {
     "name": "stdout",
     "output_type": "stream",
     "text": [
      "(29, 30) and (29, 30)\n"
     ]
    }
   ],
   "source": [
    "print(f'{SSW.shape} and {SSB.shape}')"
   ]
  },
  {
   "cell_type": "code",
   "execution_count": 24,
   "id": "b2fa20b6",
   "metadata": {},
   "outputs": [],
   "source": [
    "from clusterlib.metrics import calinski_harabasz_matrix, elbow, hartigan, wb_index_matrix, xu_index_matrix, silhouette_matrix, silhouette_wss"
   ]
  },
  {
   "cell_type": "code",
   "execution_count": 25,
   "id": "3318c4d3",
   "metadata": {},
   "outputs": [
    {
     "name": "stdout",
     "output_type": "stream",
     "text": [
      "Wall time: 31.3 ms\n"
     ]
    },
    {
     "data": {
      "text/plain": [
       "array([1363.08870403, 1353.60078647, 1694.9114425 , 3071.74762968,\n",
       "       2525.35536421, 2153.5214421 , 1880.97581599, 1679.97831084,\n",
       "       1518.37950023, 1397.56726294, 1287.30840464, 1202.40782189,\n",
       "       1128.69418805, 1061.210004  , 1007.13923975,  951.42311824,\n",
       "        909.03390565,  872.95354837,  834.31096415,  805.02519235,\n",
       "        774.58475463,  748.69093082,  722.54305079,  698.13944233,\n",
       "        681.61624923,  656.57619188,  638.34963766,  622.63247904,\n",
       "        606.30107423])"
      ]
     },
     "execution_count": 25,
     "metadata": {},
     "output_type": "execute_result"
    }
   ],
   "source": [
    "%%time\n",
    "calinski_harabasz_matrix(centering(X), L, SSW, SSB, np.mean)"
   ]
  },
  {
   "cell_type": "code",
   "execution_count": 26,
   "id": "c77be847",
   "metadata": {},
   "outputs": [
    {
     "name": "stdout",
     "output_type": "stream",
     "text": [
      "Wall time: 0 ns\n"
     ]
    },
    {
     "data": {
      "text/plain": [
       "array([       -inf,  1.45724879,  1.1853601 , 45.89328692,  1.20260459,\n",
       "        1.23497506,  0.93825126,  1.24025432,  0.7660556 ,  1.68618754,\n",
       "        0.72499862,  1.13107053,  1.33890473,  0.7709846 ,  2.07273518,\n",
       "        0.54396873,  0.92245188,  1.82377512,  0.59861468,  1.49013262,\n",
       "        0.84108995,  1.37852894,  1.08506643,  0.52182183,  6.40537887,\n",
       "        0.26721992,  0.86033558,  1.31949466,        -inf])"
      ]
     },
     "execution_count": 26,
     "metadata": {},
     "output_type": "execute_result"
    }
   ],
   "source": [
    "%%time\n",
    "elbow(SSW, (1,1), np.mean)"
   ]
  },
  {
   "cell_type": "code",
   "execution_count": 27,
   "id": "b93a11ef",
   "metadata": {},
   "outputs": [
    {
     "name": "stdout",
     "output_type": "stream",
     "text": [
      "Wall time: 0 ns\n"
     ]
    },
    {
     "data": {
      "text/plain": [
       "array([       -inf,        -inf,  2.85061079, 54.7593759 , 31.16154889,\n",
       "        1.31675145,  1.16092793,  1.0427417 ,  1.07727644,  1.25158018,\n",
       "        1.03363064,  1.11690332,  1.24216252,  1.21640143,  1.29328439,\n",
       "        0.8020239 ,  0.91986353,  1.31289601,  1.01153267,  1.08826874,\n",
       "        1.21387053,  1.3207704 ,  0.88495911,  0.94110847,  2.05553781,\n",
       "        0.91515088,  0.62020339,        -inf,        -inf])"
      ]
     },
     "execution_count": 27,
     "metadata": {},
     "output_type": "execute_result"
    }
   ],
   "source": [
    "%%time\n",
    "elbow(SSW, (2,2), np.mean)"
   ]
  },
  {
   "cell_type": "code",
   "execution_count": 28,
   "id": "7baf194f",
   "metadata": {},
   "outputs": [
    {
     "name": "stdout",
     "output_type": "stream",
     "text": [
      "Wall time: 0 ns\n"
     ]
    },
    {
     "data": {
      "text/plain": [
       "array([        -inf,         -inf,   2.91272468, 100.29335819,\n",
       "        56.39408188,   2.72016172,   2.09696816,   2.4039245 ,\n",
       "         1.71615937,   2.97790095,   1.94748227,   1.95109511,\n",
       "         2.85330042,   1.80325954,   3.67078209,   1.67147185,\n",
       "         1.42423685,   3.5061199 ,   1.69035324,   2.38214788,\n",
       "         2.09442551,   2.53799578,   2.58086191,   1.08803319,\n",
       "         9.74784541,   1.97886474,   1.09023439,   2.45470287,\n",
       "               -inf])"
      ]
     },
     "execution_count": 28,
     "metadata": {},
     "output_type": "execute_result"
    }
   ],
   "source": [
    "%%time\n",
    "elbow(SSW, (2,1), np.mean)"
   ]
  },
  {
   "cell_type": "code",
   "execution_count": 29,
   "id": "4d2352e3",
   "metadata": {},
   "outputs": [
    {
     "name": "stdout",
     "output_type": "stream",
     "text": [
      "Wall time: 0 ns\n"
     ]
    },
    {
     "data": {
      "text/plain": [
       "array([       -inf,  0.7904256 ,  1.16008228, 25.05736965,  0.66452047,\n",
       "        0.59781563,  0.51943664,  0.53798067,  0.48087238,  0.70868674,\n",
       "        0.38479467,  0.64748071,  0.58288194,  0.5200731 ,  0.73026292,\n",
       "        0.26101302,  0.5957786 ,  0.68292789,  0.35821998,  0.68075738,\n",
       "        0.48747224,  0.71738505,  0.37206153,  0.45135659,  1.35070858,\n",
       "        0.12357921,  0.48942049,        -inf,        -inf])"
      ]
     },
     "execution_count": 29,
     "metadata": {},
     "output_type": "execute_result"
    }
   ],
   "source": [
    "%%time\n",
    "elbow(SSW, (1,2), np.mean)"
   ]
  },
  {
   "cell_type": "code",
   "execution_count": 30,
   "id": "211e871d",
   "metadata": {},
   "outputs": [
    {
     "name": "stdout",
     "output_type": "stream",
     "text": [
      "Wall time: 31.2 ms\n"
     ]
    },
    {
     "data": {
      "text/plain": [
       "array([ 568.71549535,  640.65286706, 1180.53700658,   26.37965754,\n",
       "         22.40786274,   18.46348269,   20.05664487,   16.42307465,\n",
       "         21.89088201,   13.14185624,   18.44682781,   16.56639444,\n",
       "         12.51762636,   16.49124105,    8.01297455,   14.93946694,\n",
       "         16.45019742,    9.09428401,   15.41569267,   10.44498774,\n",
       "         12.56524822,    9.19139071,    8.53621684,   16.62057022,\n",
       "          2.59904324,    9.81434251,   11.53117059,    8.80936584,\n",
       "                 inf])"
      ]
     },
     "execution_count": 30,
     "metadata": {},
     "output_type": "execute_result"
    }
   ],
   "source": [
    "%%time\n",
    "hartigan(centering(X), L, SSW, np.mean)"
   ]
  },
  {
   "cell_type": "code",
   "execution_count": 31,
   "id": "aef8b54a",
   "metadata": {},
   "outputs": [
    {
     "name": "stdout",
     "output_type": "stream",
     "text": [
      "Wall time: 15.6 ms\n"
     ]
    },
    {
     "data": {
      "text/plain": [
       "array([1.46432143, 1.10483092, 0.78352176, 0.4048998 , 0.47232956,\n",
       "       0.5379561 , 0.60272667, 0.66362464, 0.72445657, 0.77842407,\n",
       "       0.83726493, 0.88925736, 0.94077401, 0.99448473, 1.04215977,\n",
       "       1.09776342, 1.1438129 , 1.18620286, 1.23644419, 1.27691656,\n",
       "       1.32273637, 1.36426   , 1.40951433, 1.45475952, 1.48611481,\n",
       "       1.53892738, 1.57907194, 1.61520416, 1.65503298])"
      ]
     },
     "execution_count": 31,
     "metadata": {},
     "output_type": "execute_result"
    }
   ],
   "source": [
    "%%time\n",
    "wb_index_matrix(L, SSW, SSB, np.mean)"
   ]
  },
  {
   "cell_type": "code",
   "execution_count": 32,
   "id": "d12eeb8c",
   "metadata": {},
   "outputs": [
    {
     "name": "stdout",
     "output_type": "stream",
     "text": [
      "Wall time: 31.7 ms\n"
     ]
    },
    {
     "data": {
      "text/plain": [
       "array([-50.4590561 , -52.31032806, -54.5059522 , -58.19424903,\n",
       "       -58.14289169, -58.10031592, -58.05899098, -58.04139151,\n",
       "       -58.01829534, -58.03244992, -58.01150747, -58.0240512 ,\n",
       "       -58.03325338, -58.0274014 , -58.04596539, -58.0259333 ,\n",
       "       -58.04426861, -58.07335019, -58.06824234, -58.09757057,\n",
       "       -58.10416715, -58.12361064, -58.12791773, -58.13068069,\n",
       "       -58.17606139, -58.15165907, -58.16552356, -58.18946024,\n",
       "       -58.20076283])"
      ]
     },
     "execution_count": 32,
     "metadata": {},
     "output_type": "execute_result"
    }
   ],
   "source": [
    "%%time\n",
    "xu_index_matrix(X, L, SSW, np.mean)"
   ]
  },
  {
   "cell_type": "code",
   "execution_count": 33,
   "id": "ed457f39",
   "metadata": {},
   "outputs": [
    {
     "name": "stdout",
     "output_type": "stream",
     "text": [
      "Wall time: 7.54 s\n"
     ]
    },
    {
     "data": {
      "text/plain": [
       "array([0.52609104, 0.55783835, 0.59719758, 0.65207198, 0.47013766,\n",
       "       0.33837773, 0.23327211, 0.15752277, 0.23113444, 0.15673597,\n",
       "       0.09505328, 0.09830127, 0.10082716, 0.09308164, 0.09624686,\n",
       "       0.09110227, 0.08990278, 0.09593262, 0.09003048, 0.0920053 ,\n",
       "       0.09286404, 0.09177311, 0.09142368, 0.0956716 , 0.09660361,\n",
       "       0.09606389, 0.09051926, 0.09103216, 0.09342737])"
      ]
     },
     "execution_count": 33,
     "metadata": {},
     "output_type": "execute_result"
    }
   ],
   "source": [
    "%%time\n",
    "silhouette_wss(centering(X), L, SSW, 'mean', np.argmin)"
   ]
  },
  {
   "cell_type": "code",
   "execution_count": 34,
   "id": "3d64fc60",
   "metadata": {},
   "outputs": [
    {
     "name": "stdout",
     "output_type": "stream",
     "text": [
      "Wall time: 3min 44s\n"
     ]
    },
    {
     "data": {
      "text/plain": [
       "array([0.52609104, 0.55783835, 0.60287867, 0.65207198, 0.59118814,\n",
       "       0.48619574, 0.44276928, 0.41081257, 0.41106619, 0.3524334 ,\n",
       "       0.34816196, 0.27408241, 0.21762937, 0.27342932, 0.27308135,\n",
       "       0.27313556, 0.27386502, 0.2725914 , 0.27128742, 0.16440397,\n",
       "       0.2719746 , 0.16276967, 0.15960614, 0.09631296, 0.09660361,\n",
       "       0.09606389, 0.09504749, 0.16214981, 0.09427996])"
      ]
     },
     "execution_count": 34,
     "metadata": {},
     "output_type": "execute_result"
    }
   ],
   "source": [
    "%%time\n",
    "silhouette_matrix(centering(X), L, 'mean', np.max)"
   ]
  },
  {
   "cell_type": "code",
   "execution_count": null,
   "id": "980d2f33",
   "metadata": {},
   "outputs": [],
   "source": []
  }
 ],
 "metadata": {
  "kernelspec": {
   "display_name": "Python 3 (ipykernel)",
   "language": "python",
   "name": "python3"
  },
  "language_info": {
   "codemirror_mode": {
    "name": "ipython",
    "version": 3
   },
   "file_extension": ".py",
   "mimetype": "text/x-python",
   "name": "python",
   "nbconvert_exporter": "python",
   "pygments_lexer": "ipython3",
   "version": "3.9.7"
  }
 },
 "nbformat": 4,
 "nbformat_minor": 5
}
